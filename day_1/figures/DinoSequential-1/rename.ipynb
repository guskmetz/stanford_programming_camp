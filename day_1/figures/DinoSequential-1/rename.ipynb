{
 "cells": [
  {
   "cell_type": "code",
   "execution_count": 5,
   "id": "9f29aaeb",
   "metadata": {},
   "outputs": [],
   "source": [
    "import os\n",
    "\n",
    "files = os.listdir()\n",
    "\n",
    "for file in files:\n",
    "    if \"frame_\" in file:\n",
    "        file_num = int(file.split(\"_\")[1])\n",
    "        # rename the file to the file_num\n",
    "        os.rename(file, f\"DinoSequential-1_{file_num}.png\")"
   ]
  },
  {
   "cell_type": "code",
   "execution_count": null,
   "id": "f7dd2a3f",
   "metadata": {},
   "outputs": [
    {
     "ename": "ValueError",
     "evalue": "invalid literal for int() with base 10: '99.png'",
     "output_type": "error",
     "traceback": [
      "\u001b[1;31m---------------------------------------------------------------------------\u001b[0m",
      "\u001b[1;31mValueError\u001b[0m                                Traceback (most recent call last)",
      "Cell \u001b[1;32mIn[6], line 8\u001b[0m\n\u001b[0;32m      5\u001b[0m frame_files \u001b[38;5;241m=\u001b[39m [file \u001b[38;5;28;01mfor\u001b[39;00m file \u001b[38;5;129;01min\u001b[39;00m frame_files \u001b[38;5;28;01mif\u001b[39;00m \u001b[38;5;124m\"\u001b[39m\u001b[38;5;124mDinoSequential-1\u001b[39m\u001b[38;5;124m\"\u001b[39m \u001b[38;5;129;01min\u001b[39;00m file]\n\u001b[0;32m      7\u001b[0m \u001b[38;5;66;03m# Get the last frame number\u001b[39;00m\n\u001b[1;32m----> 8\u001b[0m last_frame_num \u001b[38;5;241m=\u001b[39m \u001b[38;5;28;43mint\u001b[39;49m\u001b[43m(\u001b[49m\u001b[43mframe_files\u001b[49m\u001b[43m[\u001b[49m\u001b[38;5;241;43m-\u001b[39;49m\u001b[38;5;241;43m1\u001b[39;49m\u001b[43m]\u001b[49m\u001b[38;5;241;43m.\u001b[39;49m\u001b[43msplit\u001b[49m\u001b[43m(\u001b[49m\u001b[38;5;124;43m\"\u001b[39;49m\u001b[38;5;124;43m_\u001b[39;49m\u001b[38;5;124;43m\"\u001b[39;49m\u001b[43m)\u001b[49m\u001b[43m[\u001b[49m\u001b[38;5;241;43m1\u001b[39;49m\u001b[43m]\u001b[49m\u001b[43m)\u001b[49m\n\u001b[0;32m     10\u001b[0m \u001b[38;5;66;03m# Add frames from 0 to the end of the file until there are 280 frames\u001b[39;00m\n\u001b[0;32m     11\u001b[0m number_of_frames_to_add \u001b[38;5;241m=\u001b[39m \u001b[38;5;241m280\u001b[39m \u001b[38;5;241m-\u001b[39m last_frame_num\n",
      "\u001b[1;31mValueError\u001b[0m: invalid literal for int() with base 10: '99.png'"
     ]
    }
   ],
   "source": [
    "import shutil\n",
    "# Add a bunch of frames from 263 to the end of the file until there are 280 frames\n",
    "frame_files = os.listdir()\n",
    "\n",
    "frame_files = [file for file in frame_files if \"DinoSequential-1\" in file]\n",
    "\n",
    "# Get the last frame number\n",
    "last_frame_num = int(frame_files[-1].split(\"_\")[1].split(\".\")[0])\n",
    "\n",
    "# Add frames from 0 to the end of the file until there are 280 frames\n",
    "number_of_frames_to_add = 280 - last_frame_num\n",
    "\n",
    "# Add the frames\n",
    "for i in range(number_of_frames_to_add):\n",
    "    # Get the frame number\n",
    "    frame_num = last_frame_num + 1 +i\n",
    "    # Copy the frame\n",
    "    shutil.copy(f\"DinoSequential-1_{last_frame_num}.png\", f\"DinoSequential-1_{frame_num}.png\")"
   ]
  },
  {
   "cell_type": "code",
   "execution_count": 7,
   "id": "816ab4e3",
   "metadata": {},
   "outputs": [
    {
     "ename": "NameError",
     "evalue": "name 'last_frame_num' is not defined",
     "output_type": "error",
     "traceback": [
      "\u001b[1;31m---------------------------------------------------------------------------\u001b[0m",
      "\u001b[1;31mNameError\u001b[0m                                 Traceback (most recent call last)",
      "Cell \u001b[1;32mIn[7], line 1\u001b[0m\n\u001b[1;32m----> 1\u001b[0m \u001b[43mlast_frame_num\u001b[49m\n",
      "\u001b[1;31mNameError\u001b[0m: name 'last_frame_num' is not defined"
     ]
    }
   ],
   "source": [
    "last_frame_num"
   ]
  }
 ],
 "metadata": {
  "kernelspec": {
   "display_name": "Python 3",
   "language": "python",
   "name": "python3"
  },
  "language_info": {
   "codemirror_mode": {
    "name": "ipython",
    "version": 3
   },
   "file_extension": ".py",
   "mimetype": "text/x-python",
   "name": "python",
   "nbconvert_exporter": "python",
   "pygments_lexer": "ipython3",
   "version": "3.10.6"
  }
 },
 "nbformat": 4,
 "nbformat_minor": 5
}
